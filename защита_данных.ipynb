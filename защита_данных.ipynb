{
 "cells": [
  {
   "cell_type": "markdown",
   "metadata": {
    "toc": true
   },
   "source": [
    "<h1>Содержание<span class=\"tocSkip\"></span></h1>\n",
    "<div class=\"toc\"><ul class=\"toc-item\"><li><span><a href=\"#Загрузка-данных\" data-toc-modified-id=\"Загрузка-данных-1\"><span class=\"toc-item-num\">1&nbsp;&nbsp;</span>Загрузка данных</a></span></li><li><span><a href=\"#Умножение-матриц\" data-toc-modified-id=\"Умножение-матриц-2\"><span class=\"toc-item-num\">2&nbsp;&nbsp;</span>Умножение матриц</a></span></li><li><span><a href=\"#Алгоритм-преобразования\" data-toc-modified-id=\"Алгоритм-преобразования-3\"><span class=\"toc-item-num\">3&nbsp;&nbsp;</span>Алгоритм преобразования</a></span></li><li><span><a href=\"#Проверка-алгоритма\" data-toc-modified-id=\"Проверка-алгоритма-4\"><span class=\"toc-item-num\">4&nbsp;&nbsp;</span>Проверка алгоритма</a></span></li><li><span><a href=\"#Чек-лист-проверки-+-Общие-выводы\" data-toc-modified-id=\"Чек-лист-проверки-+-Общие-выводы-5\"><span class=\"toc-item-num\">5&nbsp;&nbsp;</span>Чек-лист проверки + Общие выводы</a></span></li></ul></div>"
   ]
  },
  {
   "cell_type": "markdown",
   "metadata": {},
   "source": [
    "# Защита персональных данных клиентов"
   ]
  },
  {
   "cell_type": "markdown",
   "metadata": {},
   "source": [
    "Нужно защитить данные клиентов страховой компании. Необходимо разработать такой метод преобразования данных, чтобы по ним было сложно восстановить персональную информацию. Необходимо обосновать корректность его работы.\n",
    "\n",
    "Нужно защитить данные, чтобы при преобразовании качество моделей машинного обучения не ухудшилось. Подбирать наилучшую модель не требуется."
   ]
  },
  {
   "cell_type": "markdown",
   "metadata": {},
   "source": [
    "## Загрузка данных"
   ]
  },
  {
   "cell_type": "markdown",
   "metadata": {},
   "source": [
    "Импорт необходимых библиотек"
   ]
  },
  {
   "cell_type": "code",
   "execution_count": 1,
   "metadata": {},
   "outputs": [],
   "source": [
    "import pandas as pd\n",
    "import numpy as np\n",
    "from sklearn.metrics import mean_squared_error\n",
    "from sklearn.metrics import r2_score\n",
    "from sklearn.linear_model import LinearRegression\n",
    "from warnings import filterwarnings\n",
    "filterwarnings('ignore')"
   ]
  },
  {
   "cell_type": "code",
   "execution_count": 2,
   "metadata": {},
   "outputs": [],
   "source": [
    "df = pd.read_csv('/datasets/insurance.csv')"
   ]
  },
  {
   "cell_type": "code",
   "execution_count": 3,
   "metadata": {},
   "outputs": [
    {
     "data": {
      "text/html": [
       "<div>\n",
       "<style scoped>\n",
       "    .dataframe tbody tr th:only-of-type {\n",
       "        vertical-align: middle;\n",
       "    }\n",
       "\n",
       "    .dataframe tbody tr th {\n",
       "        vertical-align: top;\n",
       "    }\n",
       "\n",
       "    .dataframe thead th {\n",
       "        text-align: right;\n",
       "    }\n",
       "</style>\n",
       "<table border=\"1\" class=\"dataframe\">\n",
       "  <thead>\n",
       "    <tr style=\"text-align: right;\">\n",
       "      <th></th>\n",
       "      <th>Пол</th>\n",
       "      <th>Возраст</th>\n",
       "      <th>Зарплата</th>\n",
       "      <th>Члены семьи</th>\n",
       "      <th>Страховые выплаты</th>\n",
       "    </tr>\n",
       "  </thead>\n",
       "  <tbody>\n",
       "    <tr>\n",
       "      <th>0</th>\n",
       "      <td>1</td>\n",
       "      <td>41.0</td>\n",
       "      <td>49600.0</td>\n",
       "      <td>1</td>\n",
       "      <td>0</td>\n",
       "    </tr>\n",
       "    <tr>\n",
       "      <th>1</th>\n",
       "      <td>0</td>\n",
       "      <td>46.0</td>\n",
       "      <td>38000.0</td>\n",
       "      <td>1</td>\n",
       "      <td>1</td>\n",
       "    </tr>\n",
       "    <tr>\n",
       "      <th>2</th>\n",
       "      <td>0</td>\n",
       "      <td>29.0</td>\n",
       "      <td>21000.0</td>\n",
       "      <td>0</td>\n",
       "      <td>0</td>\n",
       "    </tr>\n",
       "    <tr>\n",
       "      <th>3</th>\n",
       "      <td>0</td>\n",
       "      <td>21.0</td>\n",
       "      <td>41700.0</td>\n",
       "      <td>2</td>\n",
       "      <td>0</td>\n",
       "    </tr>\n",
       "    <tr>\n",
       "      <th>4</th>\n",
       "      <td>1</td>\n",
       "      <td>28.0</td>\n",
       "      <td>26100.0</td>\n",
       "      <td>0</td>\n",
       "      <td>0</td>\n",
       "    </tr>\n",
       "    <tr>\n",
       "      <th>5</th>\n",
       "      <td>1</td>\n",
       "      <td>43.0</td>\n",
       "      <td>41000.0</td>\n",
       "      <td>2</td>\n",
       "      <td>1</td>\n",
       "    </tr>\n",
       "    <tr>\n",
       "      <th>6</th>\n",
       "      <td>1</td>\n",
       "      <td>39.0</td>\n",
       "      <td>39700.0</td>\n",
       "      <td>2</td>\n",
       "      <td>0</td>\n",
       "    </tr>\n",
       "    <tr>\n",
       "      <th>7</th>\n",
       "      <td>1</td>\n",
       "      <td>25.0</td>\n",
       "      <td>38600.0</td>\n",
       "      <td>4</td>\n",
       "      <td>0</td>\n",
       "    </tr>\n",
       "    <tr>\n",
       "      <th>8</th>\n",
       "      <td>1</td>\n",
       "      <td>36.0</td>\n",
       "      <td>49700.0</td>\n",
       "      <td>1</td>\n",
       "      <td>0</td>\n",
       "    </tr>\n",
       "    <tr>\n",
       "      <th>9</th>\n",
       "      <td>1</td>\n",
       "      <td>32.0</td>\n",
       "      <td>51700.0</td>\n",
       "      <td>1</td>\n",
       "      <td>0</td>\n",
       "    </tr>\n",
       "  </tbody>\n",
       "</table>\n",
       "</div>"
      ],
      "text/plain": [
       "   Пол  Возраст  Зарплата  Члены семьи  Страховые выплаты\n",
       "0    1     41.0   49600.0            1                  0\n",
       "1    0     46.0   38000.0            1                  1\n",
       "2    0     29.0   21000.0            0                  0\n",
       "3    0     21.0   41700.0            2                  0\n",
       "4    1     28.0   26100.0            0                  0\n",
       "5    1     43.0   41000.0            2                  1\n",
       "6    1     39.0   39700.0            2                  0\n",
       "7    1     25.0   38600.0            4                  0\n",
       "8    1     36.0   49700.0            1                  0\n",
       "9    1     32.0   51700.0            1                  0"
      ]
     },
     "execution_count": 3,
     "metadata": {},
     "output_type": "execute_result"
    }
   ],
   "source": [
    "df.head(10)"
   ]
  },
  {
   "cell_type": "code",
   "execution_count": 4,
   "metadata": {
    "scrolled": true
   },
   "outputs": [
    {
     "name": "stdout",
     "output_type": "stream",
     "text": [
      "<class 'pandas.core.frame.DataFrame'>\n",
      "RangeIndex: 5000 entries, 0 to 4999\n",
      "Data columns (total 5 columns):\n",
      " #   Column             Non-Null Count  Dtype  \n",
      "---  ------             --------------  -----  \n",
      " 0   Пол                5000 non-null   int64  \n",
      " 1   Возраст            5000 non-null   float64\n",
      " 2   Зарплата           5000 non-null   float64\n",
      " 3   Члены семьи        5000 non-null   int64  \n",
      " 4   Страховые выплаты  5000 non-null   int64  \n",
      "dtypes: float64(2), int64(3)\n",
      "memory usage: 195.4 KB\n"
     ]
    }
   ],
   "source": [
    "df.info()"
   ]
  },
  {
   "cell_type": "code",
   "execution_count": 5,
   "metadata": {},
   "outputs": [
    {
     "data": {
      "text/html": [
       "<div>\n",
       "<style scoped>\n",
       "    .dataframe tbody tr th:only-of-type {\n",
       "        vertical-align: middle;\n",
       "    }\n",
       "\n",
       "    .dataframe tbody tr th {\n",
       "        vertical-align: top;\n",
       "    }\n",
       "\n",
       "    .dataframe thead th {\n",
       "        text-align: right;\n",
       "    }\n",
       "</style>\n",
       "<table border=\"1\" class=\"dataframe\">\n",
       "  <thead>\n",
       "    <tr style=\"text-align: right;\">\n",
       "      <th></th>\n",
       "      <th>Пол</th>\n",
       "      <th>Возраст</th>\n",
       "      <th>Зарплата</th>\n",
       "      <th>Члены семьи</th>\n",
       "      <th>Страховые выплаты</th>\n",
       "    </tr>\n",
       "  </thead>\n",
       "  <tbody>\n",
       "    <tr>\n",
       "      <th>count</th>\n",
       "      <td>5000.000000</td>\n",
       "      <td>5000.000000</td>\n",
       "      <td>5000.000000</td>\n",
       "      <td>5000.000000</td>\n",
       "      <td>5000.000000</td>\n",
       "    </tr>\n",
       "    <tr>\n",
       "      <th>mean</th>\n",
       "      <td>0.499000</td>\n",
       "      <td>30.952800</td>\n",
       "      <td>39916.360000</td>\n",
       "      <td>1.194200</td>\n",
       "      <td>0.148000</td>\n",
       "    </tr>\n",
       "    <tr>\n",
       "      <th>std</th>\n",
       "      <td>0.500049</td>\n",
       "      <td>8.440807</td>\n",
       "      <td>9900.083569</td>\n",
       "      <td>1.091387</td>\n",
       "      <td>0.463183</td>\n",
       "    </tr>\n",
       "    <tr>\n",
       "      <th>min</th>\n",
       "      <td>0.000000</td>\n",
       "      <td>18.000000</td>\n",
       "      <td>5300.000000</td>\n",
       "      <td>0.000000</td>\n",
       "      <td>0.000000</td>\n",
       "    </tr>\n",
       "    <tr>\n",
       "      <th>25%</th>\n",
       "      <td>0.000000</td>\n",
       "      <td>24.000000</td>\n",
       "      <td>33300.000000</td>\n",
       "      <td>0.000000</td>\n",
       "      <td>0.000000</td>\n",
       "    </tr>\n",
       "    <tr>\n",
       "      <th>50%</th>\n",
       "      <td>0.000000</td>\n",
       "      <td>30.000000</td>\n",
       "      <td>40200.000000</td>\n",
       "      <td>1.000000</td>\n",
       "      <td>0.000000</td>\n",
       "    </tr>\n",
       "    <tr>\n",
       "      <th>75%</th>\n",
       "      <td>1.000000</td>\n",
       "      <td>37.000000</td>\n",
       "      <td>46600.000000</td>\n",
       "      <td>2.000000</td>\n",
       "      <td>0.000000</td>\n",
       "    </tr>\n",
       "    <tr>\n",
       "      <th>max</th>\n",
       "      <td>1.000000</td>\n",
       "      <td>65.000000</td>\n",
       "      <td>79000.000000</td>\n",
       "      <td>6.000000</td>\n",
       "      <td>5.000000</td>\n",
       "    </tr>\n",
       "  </tbody>\n",
       "</table>\n",
       "</div>"
      ],
      "text/plain": [
       "               Пол      Возраст      Зарплата  Члены семьи  Страховые выплаты\n",
       "count  5000.000000  5000.000000   5000.000000  5000.000000        5000.000000\n",
       "mean      0.499000    30.952800  39916.360000     1.194200           0.148000\n",
       "std       0.500049     8.440807   9900.083569     1.091387           0.463183\n",
       "min       0.000000    18.000000   5300.000000     0.000000           0.000000\n",
       "25%       0.000000    24.000000  33300.000000     0.000000           0.000000\n",
       "50%       0.000000    30.000000  40200.000000     1.000000           0.000000\n",
       "75%       1.000000    37.000000  46600.000000     2.000000           0.000000\n",
       "max       1.000000    65.000000  79000.000000     6.000000           5.000000"
      ]
     },
     "execution_count": 5,
     "metadata": {},
     "output_type": "execute_result"
    }
   ],
   "source": [
    "df.describe()"
   ]
  },
  {
   "cell_type": "markdown",
   "metadata": {},
   "source": [
    "В таблице данных компании соблюден почти идеальный баланс между мужчинами и женщинами. Средний возраст застрахованного составляет около 31 года, при этом медиана составляет 30. Границы возраста застрахованных приводят к выводу, что компания не занимается страхованием лиц, чей возраст составляет менее 18 и старше 65 лет. Также интересно взглянуть на уровень заработной платы застрахованных - медиана составляет чуть более 40 000 рублей. В целом, в компании скорее представлен средний экономический класс, чем слишком бедные или слишком богатые граждане."
   ]
  },
  {
   "cell_type": "code",
   "execution_count": 6,
   "metadata": {},
   "outputs": [
    {
     "data": {
      "text/plain": [
       "Пол                  0\n",
       "Возраст              0\n",
       "Зарплата             0\n",
       "Члены семьи          0\n",
       "Страховые выплаты    0\n",
       "dtype: int64"
      ]
     },
     "execution_count": 6,
     "metadata": {},
     "output_type": "execute_result"
    }
   ],
   "source": [
    "df.isna().sum()"
   ]
  },
  {
   "cell_type": "code",
   "execution_count": 7,
   "metadata": {},
   "outputs": [
    {
     "data": {
      "text/plain": [
       "153"
      ]
     },
     "execution_count": 7,
     "metadata": {},
     "output_type": "execute_result"
    }
   ],
   "source": [
    "df.duplicated().sum()"
   ]
  },
  {
   "cell_type": "markdown",
   "metadata": {},
   "source": [
    "Типы данных представлены верно, пропусков не обнаружено. Обнаружено 153 дубликата"
   ]
  },
  {
   "cell_type": "code",
   "execution_count": 8,
   "metadata": {
    "scrolled": true
   },
   "outputs": [
    {
     "data": {
      "text/html": [
       "<div>\n",
       "<style scoped>\n",
       "    .dataframe tbody tr th:only-of-type {\n",
       "        vertical-align: middle;\n",
       "    }\n",
       "\n",
       "    .dataframe tbody tr th {\n",
       "        vertical-align: top;\n",
       "    }\n",
       "\n",
       "    .dataframe thead th {\n",
       "        text-align: right;\n",
       "    }\n",
       "</style>\n",
       "<table border=\"1\" class=\"dataframe\">\n",
       "  <thead>\n",
       "    <tr style=\"text-align: right;\">\n",
       "      <th></th>\n",
       "      <th>Пол</th>\n",
       "      <th>Возраст</th>\n",
       "      <th>Зарплата</th>\n",
       "      <th>Члены семьи</th>\n",
       "      <th>Страховые выплаты</th>\n",
       "    </tr>\n",
       "  </thead>\n",
       "  <tbody>\n",
       "    <tr>\n",
       "      <th>2955</th>\n",
       "      <td>1</td>\n",
       "      <td>32.0</td>\n",
       "      <td>21600.0</td>\n",
       "      <td>0</td>\n",
       "      <td>0</td>\n",
       "    </tr>\n",
       "    <tr>\n",
       "      <th>2988</th>\n",
       "      <td>1</td>\n",
       "      <td>32.0</td>\n",
       "      <td>21600.0</td>\n",
       "      <td>0</td>\n",
       "      <td>0</td>\n",
       "    </tr>\n",
       "    <tr>\n",
       "      <th>361</th>\n",
       "      <td>0</td>\n",
       "      <td>50.0</td>\n",
       "      <td>24700.0</td>\n",
       "      <td>1</td>\n",
       "      <td>2</td>\n",
       "    </tr>\n",
       "    <tr>\n",
       "      <th>2869</th>\n",
       "      <td>0</td>\n",
       "      <td>50.0</td>\n",
       "      <td>24700.0</td>\n",
       "      <td>1</td>\n",
       "      <td>2</td>\n",
       "    </tr>\n",
       "    <tr>\n",
       "      <th>333</th>\n",
       "      <td>0</td>\n",
       "      <td>32.0</td>\n",
       "      <td>25600.0</td>\n",
       "      <td>1</td>\n",
       "      <td>0</td>\n",
       "    </tr>\n",
       "    <tr>\n",
       "      <th>...</th>\n",
       "      <td>...</td>\n",
       "      <td>...</td>\n",
       "      <td>...</td>\n",
       "      <td>...</td>\n",
       "      <td>...</td>\n",
       "    </tr>\n",
       "    <tr>\n",
       "      <th>1542</th>\n",
       "      <td>0</td>\n",
       "      <td>40.0</td>\n",
       "      <td>54000.0</td>\n",
       "      <td>2</td>\n",
       "      <td>0</td>\n",
       "    </tr>\n",
       "    <tr>\n",
       "      <th>1042</th>\n",
       "      <td>0</td>\n",
       "      <td>33.0</td>\n",
       "      <td>59300.0</td>\n",
       "      <td>2</td>\n",
       "      <td>0</td>\n",
       "    </tr>\n",
       "    <tr>\n",
       "      <th>2231</th>\n",
       "      <td>0</td>\n",
       "      <td>33.0</td>\n",
       "      <td>59300.0</td>\n",
       "      <td>2</td>\n",
       "      <td>0</td>\n",
       "    </tr>\n",
       "    <tr>\n",
       "      <th>1418</th>\n",
       "      <td>1</td>\n",
       "      <td>28.0</td>\n",
       "      <td>59900.0</td>\n",
       "      <td>0</td>\n",
       "      <td>0</td>\n",
       "    </tr>\n",
       "    <tr>\n",
       "      <th>1742</th>\n",
       "      <td>1</td>\n",
       "      <td>28.0</td>\n",
       "      <td>59900.0</td>\n",
       "      <td>0</td>\n",
       "      <td>0</td>\n",
       "    </tr>\n",
       "  </tbody>\n",
       "</table>\n",
       "<p>300 rows × 5 columns</p>\n",
       "</div>"
      ],
      "text/plain": [
       "      Пол  Возраст  Зарплата  Члены семьи  Страховые выплаты\n",
       "2955    1     32.0   21600.0            0                  0\n",
       "2988    1     32.0   21600.0            0                  0\n",
       "361     0     50.0   24700.0            1                  2\n",
       "2869    0     50.0   24700.0            1                  2\n",
       "333     0     32.0   25600.0            1                  0\n",
       "...   ...      ...       ...          ...                ...\n",
       "1542    0     40.0   54000.0            2                  0\n",
       "1042    0     33.0   59300.0            2                  0\n",
       "2231    0     33.0   59300.0            2                  0\n",
       "1418    1     28.0   59900.0            0                  0\n",
       "1742    1     28.0   59900.0            0                  0\n",
       "\n",
       "[300 rows x 5 columns]"
      ]
     },
     "execution_count": 8,
     "metadata": {},
     "output_type": "execute_result"
    }
   ],
   "source": [
    "df.sort_values(by='Зарплата')[df.duplicated(keep=False)]"
   ]
  },
  {
   "cell_type": "markdown",
   "metadata": {},
   "source": [
    "Лица в датафрейме повторяются (но могут быть и просто очень похожие люди). Поскольку данные одинаковые, то их можно удалить, не вредя выборке, так как уникальных данных они в себе не содержат."
   ]
  },
  {
   "cell_type": "code",
   "execution_count": 9,
   "metadata": {},
   "outputs": [],
   "source": [
    "df = df.drop_duplicates()"
   ]
  },
  {
   "cell_type": "code",
   "execution_count": 10,
   "metadata": {
    "scrolled": false
   },
   "outputs": [
    {
     "data": {
      "text/html": [
       "<div>\n",
       "<style scoped>\n",
       "    .dataframe tbody tr th:only-of-type {\n",
       "        vertical-align: middle;\n",
       "    }\n",
       "\n",
       "    .dataframe tbody tr th {\n",
       "        vertical-align: top;\n",
       "    }\n",
       "\n",
       "    .dataframe thead th {\n",
       "        text-align: right;\n",
       "    }\n",
       "</style>\n",
       "<table border=\"1\" class=\"dataframe\">\n",
       "  <thead>\n",
       "    <tr style=\"text-align: right;\">\n",
       "      <th></th>\n",
       "      <th>Пол</th>\n",
       "      <th>Возраст</th>\n",
       "      <th>Зарплата</th>\n",
       "      <th>Члены семьи</th>\n",
       "      <th>Страховые выплаты</th>\n",
       "    </tr>\n",
       "  </thead>\n",
       "  <tbody>\n",
       "  </tbody>\n",
       "</table>\n",
       "</div>"
      ],
      "text/plain": [
       "Empty DataFrame\n",
       "Columns: [Пол, Возраст, Зарплата, Члены семьи, Страховые выплаты]\n",
       "Index: []"
      ]
     },
     "execution_count": 10,
     "metadata": {},
     "output_type": "execute_result"
    }
   ],
   "source": [
    "df.sort_values(by='Зарплата')[df.duplicated(keep=False)]"
   ]
  },
  {
   "cell_type": "code",
   "execution_count": 11,
   "metadata": {
    "scrolled": true
   },
   "outputs": [
    {
     "data": {
      "text/html": [
       "<div>\n",
       "<style scoped>\n",
       "    .dataframe tbody tr th:only-of-type {\n",
       "        vertical-align: middle;\n",
       "    }\n",
       "\n",
       "    .dataframe tbody tr th {\n",
       "        vertical-align: top;\n",
       "    }\n",
       "\n",
       "    .dataframe thead th {\n",
       "        text-align: right;\n",
       "    }\n",
       "</style>\n",
       "<table border=\"1\" class=\"dataframe\">\n",
       "  <thead>\n",
       "    <tr style=\"text-align: right;\">\n",
       "      <th></th>\n",
       "      <th>пол</th>\n",
       "      <th>возраст</th>\n",
       "      <th>зарплата</th>\n",
       "      <th>члены_семьи</th>\n",
       "      <th>страховые_выплаты</th>\n",
       "    </tr>\n",
       "  </thead>\n",
       "  <tbody>\n",
       "    <tr>\n",
       "      <th>0</th>\n",
       "      <td>1</td>\n",
       "      <td>41.0</td>\n",
       "      <td>49600.0</td>\n",
       "      <td>1</td>\n",
       "      <td>0</td>\n",
       "    </tr>\n",
       "    <tr>\n",
       "      <th>1</th>\n",
       "      <td>0</td>\n",
       "      <td>46.0</td>\n",
       "      <td>38000.0</td>\n",
       "      <td>1</td>\n",
       "      <td>1</td>\n",
       "    </tr>\n",
       "    <tr>\n",
       "      <th>2</th>\n",
       "      <td>0</td>\n",
       "      <td>29.0</td>\n",
       "      <td>21000.0</td>\n",
       "      <td>0</td>\n",
       "      <td>0</td>\n",
       "    </tr>\n",
       "    <tr>\n",
       "      <th>3</th>\n",
       "      <td>0</td>\n",
       "      <td>21.0</td>\n",
       "      <td>41700.0</td>\n",
       "      <td>2</td>\n",
       "      <td>0</td>\n",
       "    </tr>\n",
       "    <tr>\n",
       "      <th>4</th>\n",
       "      <td>1</td>\n",
       "      <td>28.0</td>\n",
       "      <td>26100.0</td>\n",
       "      <td>0</td>\n",
       "      <td>0</td>\n",
       "    </tr>\n",
       "  </tbody>\n",
       "</table>\n",
       "</div>"
      ],
      "text/plain": [
       "   пол  возраст  зарплата  члены_семьи  страховые_выплаты\n",
       "0    1     41.0   49600.0            1                  0\n",
       "1    0     46.0   38000.0            1                  1\n",
       "2    0     29.0   21000.0            0                  0\n",
       "3    0     21.0   41700.0            2                  0\n",
       "4    1     28.0   26100.0            0                  0"
      ]
     },
     "execution_count": 11,
     "metadata": {},
     "output_type": "execute_result"
    }
   ],
   "source": [
    "df = df.rename(columns={'Пол': 'пол', 'Возраст': 'возраст', 'Зарплата': 'зарплата', 'Члены семьи': 'члены_семьи', 'Страховые выплаты': 'страховые_выплаты'})\n",
    "df.head()"
   ]
  },
  {
   "cell_type": "code",
   "execution_count": 12,
   "metadata": {
    "scrolled": true
   },
   "outputs": [
    {
     "data": {
      "text/plain": [
       "0.6549641033747963"
      ]
     },
     "execution_count": 12,
     "metadata": {},
     "output_type": "execute_result"
    }
   ],
   "source": [
    "df['возраст'].corr(df['страховые_выплаты'])"
   ]
  },
  {
   "cell_type": "markdown",
   "metadata": {},
   "source": [
    "Между возрастом и количеством страховых выплат существует высокая положительная корреляция. То есть чем больше возраст застрахованного лица, тем больше он имеет выплат."
   ]
  },
  {
   "cell_type": "markdown",
   "metadata": {},
   "source": [
    "**Выводы**"
   ]
  },
  {
   "cell_type": "markdown",
   "metadata": {},
   "source": [
    "1. Типы данных представлены верно, пропусков не обнаружено. Обнаружено 153 дубликата\n",
    "2. Лица в датафрейме повторяются (но могут быть и просто очень похожие люди). Поскольку данные одинаковые, то их можно удалить, не вредя выборке, так как уникальных данных они в себе не содержат.\n",
    "3. Названия столбцов стандартизированы.\n",
    "4. Между возрастом и количеством страховых выплат существует высокая положительная корреляция. То есть чем больше возраст застрахованного лица, тем больше он имеет выплат."
   ]
  },
  {
   "cell_type": "markdown",
   "metadata": {},
   "source": [
    "## Умножение матриц"
   ]
  },
  {
   "cell_type": "markdown",
   "metadata": {},
   "source": [
    "Обозначения:\n",
    "\n",
    "- $X$ — матрица признаков (нулевой столбец состоит из единиц)\n",
    "\n",
    "- $y$ — вектор целевого признака\n",
    "\n",
    "- $P$ — матрица, на которую умножаются признаки\n",
    "\n",
    "- $w$ — вектор весов линейной регрессии (нулевой элемент равен сдвигу)"
   ]
  },
  {
   "cell_type": "markdown",
   "metadata": {},
   "source": [
    "Предсказания:\n",
    "\n",
    "$$\n",
    "a = Xw\n",
    "$$\n",
    "\n",
    "Задача обучения:\n",
    "\n",
    "$$\n",
    "w = \\arg\\min_w MSE(Xw, y)\n",
    "$$\n",
    "\n",
    "Формула обучения:\n",
    "\n",
    "$$\n",
    "w = (X^T X)^{-1} X^T y\n",
    "$$"
   ]
  },
  {
   "cell_type": "markdown",
   "metadata": {},
   "source": [
    "**Признаки умножают на обратимую матрицу. Изменится ли качество линейной регрессии?**"
   ]
  },
  {
   "cell_type": "code",
   "execution_count": 13,
   "metadata": {},
   "outputs": [
    {
     "data": {
      "text/html": [
       "<div>\n",
       "<style scoped>\n",
       "    .dataframe tbody tr th:only-of-type {\n",
       "        vertical-align: middle;\n",
       "    }\n",
       "\n",
       "    .dataframe tbody tr th {\n",
       "        vertical-align: top;\n",
       "    }\n",
       "\n",
       "    .dataframe thead th {\n",
       "        text-align: right;\n",
       "    }\n",
       "</style>\n",
       "<table border=\"1\" class=\"dataframe\">\n",
       "  <thead>\n",
       "    <tr style=\"text-align: right;\">\n",
       "      <th></th>\n",
       "      <th>пол</th>\n",
       "      <th>возраст</th>\n",
       "      <th>зарплата</th>\n",
       "      <th>члены_семьи</th>\n",
       "      <th>страховые_выплаты</th>\n",
       "    </tr>\n",
       "  </thead>\n",
       "  <tbody>\n",
       "    <tr>\n",
       "      <th>0</th>\n",
       "      <td>1</td>\n",
       "      <td>41.0</td>\n",
       "      <td>49600.0</td>\n",
       "      <td>1</td>\n",
       "      <td>0</td>\n",
       "    </tr>\n",
       "    <tr>\n",
       "      <th>1</th>\n",
       "      <td>0</td>\n",
       "      <td>46.0</td>\n",
       "      <td>38000.0</td>\n",
       "      <td>1</td>\n",
       "      <td>1</td>\n",
       "    </tr>\n",
       "    <tr>\n",
       "      <th>2</th>\n",
       "      <td>0</td>\n",
       "      <td>29.0</td>\n",
       "      <td>21000.0</td>\n",
       "      <td>0</td>\n",
       "      <td>0</td>\n",
       "    </tr>\n",
       "    <tr>\n",
       "      <th>3</th>\n",
       "      <td>0</td>\n",
       "      <td>21.0</td>\n",
       "      <td>41700.0</td>\n",
       "      <td>2</td>\n",
       "      <td>0</td>\n",
       "    </tr>\n",
       "    <tr>\n",
       "      <th>4</th>\n",
       "      <td>1</td>\n",
       "      <td>28.0</td>\n",
       "      <td>26100.0</td>\n",
       "      <td>0</td>\n",
       "      <td>0</td>\n",
       "    </tr>\n",
       "  </tbody>\n",
       "</table>\n",
       "</div>"
      ],
      "text/plain": [
       "   пол  возраст  зарплата  члены_семьи  страховые_выплаты\n",
       "0    1     41.0   49600.0            1                  0\n",
       "1    0     46.0   38000.0            1                  1\n",
       "2    0     29.0   21000.0            0                  0\n",
       "3    0     21.0   41700.0            2                  0\n",
       "4    1     28.0   26100.0            0                  0"
      ]
     },
     "execution_count": 13,
     "metadata": {},
     "output_type": "execute_result"
    }
   ],
   "source": [
    "df.head()"
   ]
  },
  {
   "cell_type": "code",
   "execution_count": 14,
   "metadata": {},
   "outputs": [],
   "source": [
    "X = df.drop('страховые_выплаты', 1)\n",
    "y = df['страховые_выплаты']"
   ]
  },
  {
   "cell_type": "code",
   "execution_count": 15,
   "metadata": {},
   "outputs": [
    {
     "data": {
      "text/plain": [
       "(4847, 5)"
      ]
     },
     "execution_count": 15,
     "metadata": {},
     "output_type": "execute_result"
    }
   ],
   "source": [
    "# добавим 1 вектор, что соответствует w0\n",
    "X = np.concatenate((np.ones((X.shape[0], 1)), X), axis=1)\n",
    "X.shape"
   ]
  },
  {
   "cell_type": "markdown",
   "metadata": {},
   "source": [
    "Создададим различные варианты матриц для дальнейшего домножения на X.\n",
    "Также посмотрим детерминант матриц , что будет подтверждать обратима или необратима матрица (если det = 0, то необратима)\n",
    "\n",
    "X - исходная матрица;\n",
    "E - единичная матрица;\n",
    "R - рандомная(обратимая) матрица. \n"
   ]
  },
  {
   "cell_type": "code",
   "execution_count": 16,
   "metadata": {},
   "outputs": [],
   "source": [
    "# функция проверки матрицы на обратимость\n",
    "def error_inv(X):\n",
    "    try: \n",
    "        np.linalg.inv(X)\n",
    "        print(\"Матрица обратима, детерминант = \",np.linalg.det(X))\n",
    "    except:\n",
    "        print(\"Матрица необратима, или не удовлетворяет требованиям к обратимой матрице\")"
   ]
  },
  {
   "cell_type": "code",
   "execution_count": 17,
   "metadata": {},
   "outputs": [
    {
     "name": "stdout",
     "output_type": "stream",
     "text": [
      "Матрица необратима, или не удовлетворяет требованиям к обратимой матрице\n"
     ]
    }
   ],
   "source": [
    "error_inv(X)"
   ]
  },
  {
   "cell_type": "code",
   "execution_count": 18,
   "metadata": {},
   "outputs": [
    {
     "data": {
      "text/plain": [
       "array([[1., 0., 0., 0., 0.],\n",
       "       [0., 1., 0., 0., 0.],\n",
       "       [0., 0., 1., 0., 0.],\n",
       "       [0., 0., 0., 1., 0.],\n",
       "       [0., 0., 0., 0., 1.]])"
      ]
     },
     "execution_count": 18,
     "metadata": {},
     "output_type": "execute_result"
    }
   ],
   "source": [
    "E = np.eye(5)\n",
    "E"
   ]
  },
  {
   "cell_type": "code",
   "execution_count": 19,
   "metadata": {},
   "outputs": [
    {
     "name": "stdout",
     "output_type": "stream",
     "text": [
      "Матрица обратима, детерминант =  1.0\n"
     ]
    }
   ],
   "source": [
    "error_inv(E)"
   ]
  },
  {
   "cell_type": "code",
   "execution_count": 20,
   "metadata": {},
   "outputs": [
    {
     "data": {
      "text/plain": [
       "array([[-1.0856306 ,  0.99734545,  0.2829785 , -1.50629471, -0.57860025],\n",
       "       [ 1.65143654, -2.42667924, -0.42891263,  1.26593626, -0.8667404 ],\n",
       "       [-0.67888615, -0.09470897,  1.49138963, -0.638902  , -0.44398196],\n",
       "       [-0.43435128,  2.20593008,  2.18678609,  1.0040539 ,  0.3861864 ],\n",
       "       [ 0.73736858,  1.49073203, -0.93583387,  1.17582904, -1.25388067]])"
      ]
     },
     "execution_count": 20,
     "metadata": {},
     "output_type": "execute_result"
    }
   ],
   "source": [
    "np.random.seed(123)\n",
    "R = np.random.normal(size=(5, 5))\n",
    "R"
   ]
  },
  {
   "cell_type": "code",
   "execution_count": 21,
   "metadata": {},
   "outputs": [
    {
     "name": "stdout",
     "output_type": "stream",
     "text": [
      "Матрица обратима, детерминант =  3.841960128348786\n"
     ]
    }
   ],
   "source": [
    "error_inv(R)"
   ]
  },
  {
   "cell_type": "code",
   "execution_count": 22,
   "metadata": {},
   "outputs": [
    {
     "data": {
      "text/plain": [
       "(4847, 5)"
      ]
     },
     "execution_count": 22,
     "metadata": {},
     "output_type": "execute_result"
    }
   ],
   "source": [
    "X_R = X.dot(R)\n",
    "X_R.shape"
   ]
  },
  {
   "cell_type": "code",
   "execution_count": 23,
   "metadata": {},
   "outputs": [
    {
     "data": {
      "text/plain": [
       "(5, 5)"
      ]
     },
     "execution_count": 23,
     "metadata": {},
     "output_type": "execute_result"
    }
   ],
   "source": [
    "T = X.T.dot(X)\n",
    "T.shape"
   ]
  },
  {
   "cell_type": "code",
   "execution_count": 24,
   "metadata": {},
   "outputs": [
    {
     "data": {
      "text/plain": [
       "(4847, 5)"
      ]
     },
     "execution_count": 24,
     "metadata": {},
     "output_type": "execute_result"
    }
   ],
   "source": [
    "X_T = X.dot(T)\n",
    "X_T.shape"
   ]
  },
  {
   "cell_type": "code",
   "execution_count": 25,
   "metadata": {},
   "outputs": [
    {
     "data": {
      "text/plain": [
       "array([[0., 0., 0., 0., 0.],\n",
       "       [0., 0., 0., 0., 0.],\n",
       "       [0., 0., 0., 0., 0.],\n",
       "       [0., 0., 0., 0., 0.],\n",
       "       [0., 0., 0., 0., 0.]])"
      ]
     },
     "execution_count": 25,
     "metadata": {},
     "output_type": "execute_result"
    }
   ],
   "source": [
    "Z = np.zeros((5,5))\n",
    "Z"
   ]
  },
  {
   "cell_type": "code",
   "execution_count": 26,
   "metadata": {
    "scrolled": true
   },
   "outputs": [
    {
     "name": "stdout",
     "output_type": "stream",
     "text": [
      "Матрица необратима, или не удовлетворяет требованиям к обратимой матрице\n"
     ]
    }
   ],
   "source": [
    "error_inv(Z)"
   ]
  },
  {
   "cell_type": "code",
   "execution_count": 27,
   "metadata": {},
   "outputs": [
    {
     "name": "stdout",
     "output_type": "stream",
     "text": [
      "Матрица необратима, или не удовлетворяет требованиям к обратимой матрице\n"
     ]
    }
   ],
   "source": [
    "error_inv(X.dot(Z))"
   ]
  },
  {
   "cell_type": "markdown",
   "metadata": {},
   "source": [
    "Предсказания:\n",
    "\n",
    "$$\n",
    "a = Xw\n",
    "$$\n",
    "\n",
    "Задача обучения:\n",
    "\n",
    "$$\n",
    "w = \\arg\\min_w MSE(Xw, y)\n",
    "$$\n",
    "\n",
    "Формула обучения:\n",
    "\n",
    "$$\n",
    "w = (X^T X)^{-1} X^T y\n",
    "$$\n",
    "\n",
    "$$\n",
    "y = X * (X^T X)^{-1} X^T y \n",
    "$$\n",
    "\n",
    "Упрощение:\n",
    "$$\n",
    "a = Xw = XEw = XPP^{-1}w = (XP)P^{-1}w = (XP)w', где P - случайная обратимая матрица.\n",
    "$$\n",
    "$$\n",
    "w = (X^T X)^{-1} X^T y\n",
    "$$\n",
    "$$\n",
    "w' = ((XP)^T XP)^{-1} (XP)^T y\n",
    "$$\n",
    "\n",
    "$$\n",
    "w' = P^{-1}(X^TX)^{-1} (P^T)^{-1} P^T X^T y\n",
    "$$\n",
    "\n",
    "По свойству единичной матрицы:\n",
    "$$\n",
    "(P^T)^{-1} P^T = E = 1\n",
    "$$\n",
    "\n",
    "$$\n",
    "w' = P^{-1}(X^T X)^{-1}X^T y\n",
    "y* = XPP^{-1}(X^T X)^{-1}X^T y, где PP^{-1} = E\n",
    "$$\n",
    "\n",
    "При упрощении уравнения X.dot(P) получаем:\n",
    "$$\n",
    "y* = X * (X^T X)^{-1} X^T y \n",
    "$$\n",
    "\n",
    "\n",
    "\n",
    "*Таким образом формула y полность совпадает с формулой y*\n",
    "\n",
    "**Из этого можно сделать вывод, что независимо от того, какую метрику будем использовать MSE,MAE или R2 значения метрик не изменятся!\n",
    "То есть качесвто линейной регрессии не изменится**"
   ]
  },
  {
   "cell_type": "markdown",
   "metadata": {},
   "source": [
    "**Ответ:** Качесвто линейной регрессии не изменится"
   ]
  },
  {
   "cell_type": "markdown",
   "metadata": {},
   "source": [
    "**Примеры полученных матриц**"
   ]
  },
  {
   "cell_type": "markdown",
   "metadata": {},
   "source": [
    "Произведение исходной матрицы на обратимую матрицу"
   ]
  },
  {
   "cell_type": "code",
   "execution_count": 28,
   "metadata": {},
   "outputs": [],
   "source": [
    "def check(X, y, name):\n",
    "    model = LinearRegression()\n",
    "    model.fit(X, y)\n",
    "    predictions = model.predict(X)\n",
    "    print(\"Метрика MSE для матрицы\",name,\"равна\",mean_squared_error(y,predictions))\n",
    "    return mean_squared_error(y,predictions)"
   ]
  },
  {
   "cell_type": "code",
   "execution_count": 29,
   "metadata": {},
   "outputs": [
    {
     "name": "stdout",
     "output_type": "stream",
     "text": [
      "Метрика MSE для матрицы X равна 0.125272638266816\n"
     ]
    },
    {
     "data": {
      "text/plain": [
       "0.125272638266816"
      ]
     },
     "execution_count": 29,
     "metadata": {},
     "output_type": "execute_result"
    }
   ],
   "source": [
    "check(X, y, 'X')"
   ]
  },
  {
   "cell_type": "code",
   "execution_count": 30,
   "metadata": {},
   "outputs": [
    {
     "name": "stdout",
     "output_type": "stream",
     "text": [
      "Метрика MSE для матрицы X_R равна 0.12527256772236653\n"
     ]
    },
    {
     "data": {
      "text/plain": [
       "0.12527256772236653"
      ]
     },
     "execution_count": 30,
     "metadata": {},
     "output_type": "execute_result"
    }
   ],
   "source": [
    "check(X_R, y, 'X_R')"
   ]
  },
  {
   "cell_type": "markdown",
   "metadata": {},
   "source": [
    "Произведение исходной матрицы на необратимую матрицу"
   ]
  },
  {
   "cell_type": "code",
   "execution_count": 31,
   "metadata": {},
   "outputs": [
    {
     "name": "stdout",
     "output_type": "stream",
     "text": [
      "Метрика MSE для матрицы Z равна 0.2198540875868632\n"
     ]
    },
    {
     "data": {
      "text/plain": [
       "0.2198540875868632"
      ]
     },
     "execution_count": 31,
     "metadata": {},
     "output_type": "execute_result"
    }
   ],
   "source": [
    "check(X.dot(Z), y, name=\"Z\")"
   ]
  },
  {
   "cell_type": "markdown",
   "metadata": {},
   "source": [
    "**Выводы**"
   ]
  },
  {
   "cell_type": "markdown",
   "metadata": {},
   "source": [
    "1. метрика mse показывает худшие результаты с необратимыми матрицами\n",
    "2. При умножении матрицы на обратимую матрицу независимо от того, какую метрику будем использовать MSE,MAE или R2 значения метрик не изменятся, то есть качесвто линейной регрессии не изменится"
   ]
  },
  {
   "cell_type": "markdown",
   "metadata": {},
   "source": [
    "## Алгоритм преобразования"
   ]
  },
  {
   "cell_type": "markdown",
   "metadata": {},
   "source": [
    "**Алгоритм**\n",
    "\n"
   ]
  },
  {
   "cell_type": "markdown",
   "metadata": {},
   "source": [
    "Алгоритм решение заключается в умножения матрицы признаков на случайную обратимую матрицу. Пример такой матрицы уже есть - это X_R, который равен X @ R"
   ]
  },
  {
   "cell_type": "code",
   "execution_count": 32,
   "metadata": {},
   "outputs": [
    {
     "name": "stdout",
     "output_type": "stream",
     "text": [
      "Матрица обратима, детерминант =  3.841960128348786\n"
     ]
    }
   ],
   "source": [
    "error_inv(R)"
   ]
  },
  {
   "cell_type": "code",
   "execution_count": 33,
   "metadata": {},
   "outputs": [
    {
     "name": "stdout",
     "output_type": "stream",
     "text": [
      "Матрица необратима, или не удовлетворяет требованиям к обратимой матрице\n"
     ]
    }
   ],
   "source": [
    "error_inv(X_R)"
   ]
  },
  {
   "cell_type": "code",
   "execution_count": 34,
   "metadata": {},
   "outputs": [],
   "source": [
    "def algorithm(X):\n",
    "    np.random.seed = 12345\n",
    "    new_x = X.dot(np.random.normal(size=(5,5)))\n",
    "    return new_x"
   ]
  },
  {
   "cell_type": "code",
   "execution_count": 35,
   "metadata": {},
   "outputs": [
    {
     "data": {
      "text/plain": [
       "(4847, 5)"
      ]
     },
     "execution_count": 35,
     "metadata": {},
     "output_type": "execute_result"
    }
   ],
   "source": [
    "X_N = algorithm(X)\n",
    "X_N.shape"
   ]
  },
  {
   "cell_type": "markdown",
   "metadata": {},
   "source": [
    "**Обоснование**\n",
    "\n",
    "Данный метод обосновывается тем, что при умножение матрицы признаков на обратимую матрицу качество линейной регрессии не меняется."
   ]
  },
  {
   "cell_type": "markdown",
   "metadata": {},
   "source": [
    "Аргументация на практике"
   ]
  },
  {
   "cell_type": "code",
   "execution_count": 36,
   "metadata": {},
   "outputs": [
    {
     "name": "stdout",
     "output_type": "stream",
     "text": [
      "Метрика MSE для матрицы X_N равна 0.12527258054786358\n"
     ]
    },
    {
     "data": {
      "text/plain": [
       "0.12527258054786358"
      ]
     },
     "execution_count": 36,
     "metadata": {},
     "output_type": "execute_result"
    }
   ],
   "source": [
    "check(X_N, y, name='X_N')"
   ]
  },
  {
   "cell_type": "markdown",
   "metadata": {},
   "source": [
    "## Проверка алгоритма"
   ]
  },
  {
   "cell_type": "code",
   "execution_count": 37,
   "metadata": {},
   "outputs": [],
   "source": [
    "def full_algorithm(X, y, name):\n",
    "    model = LinearRegression()\n",
    "    model.fit(X, y)\n",
    "    predictions = model.predict(X)\n",
    "    print('Метрика качества модели R2 для матрицы ' + name + ':', r2_score(y, predictions))\n"
   ]
  },
  {
   "cell_type": "code",
   "execution_count": 38,
   "metadata": {},
   "outputs": [
    {
     "name": "stdout",
     "output_type": "stream",
     "text": [
      "Метрика качества модели R2 для матрицы X: 0.4302010044852068\n"
     ]
    }
   ],
   "source": [
    "full_algorithm(X, y, 'X')"
   ]
  },
  {
   "cell_type": "code",
   "execution_count": 39,
   "metadata": {},
   "outputs": [
    {
     "name": "stdout",
     "output_type": "stream",
     "text": [
      "Метрика качества модели R2 для матрицы X_R: 0.4302013253546083\n"
     ]
    }
   ],
   "source": [
    "full_algorithm(X_R, y, 'X_R')"
   ]
  },
  {
   "cell_type": "code",
   "execution_count": 40,
   "metadata": {},
   "outputs": [
    {
     "name": "stdout",
     "output_type": "stream",
     "text": [
      "Метрика качества модели R2 для матрицы X_N: 0.4302012670182035\n"
     ]
    }
   ],
   "source": [
    "full_algorithm(X_N, y, 'X_N')"
   ]
  },
  {
   "cell_type": "markdown",
   "metadata": {},
   "source": [
    "**Вывод**"
   ]
  },
  {
   "cell_type": "markdown",
   "metadata": {},
   "source": [
    "Метрика R2 для выжеприведённых матриц расходится в рамках статистической погрешности, что говорит о том, что модель линейной регрессии работает одинаково хорошо, как с матрицой с исходными признакми, так и с этой же матрицой, помноженной на случайную обратимую матрицу. \n",
    "Алгоритм для защиты персональных данных можно внедрять."
   ]
  },
  {
   "cell_type": "markdown",
   "metadata": {},
   "source": [
    "## Чек-лист проверки + Общие выводы"
   ]
  },
  {
   "cell_type": "markdown",
   "metadata": {},
   "source": [
    "1. Типы данных представлены верно, пропусков не обнаружено. Обнаружено 153 дубликата\n",
    "2. Лица в датафрейме повторяются (но могут быть и просто очень похожие люди). Поскольку данные одинаковые, то их можно удалить, не вредя выборке, так как уникальных данных они в себе не содержат.\n",
    "3. Названия столбцов стандартизирвоаны\n",
    "4. метрика mse показывает худшие результаты с необратимыми матрицами\n",
    "5. При умножении матрицы на обратимую матрицу независимо от того, какую метрику будем использовать MSE,MAE или R2 значения метрик не изменятся, то есть качесвто линейной регрессии не изменится\n",
    "6. Алгоритм решение заключается в умножения матрицы признаков на случайную обратимую матрицу. Пример такой матрицы уже есть - это X_R, который равен X @ R\n",
    "7. Данный метод обосновывается тем, что при умножение матрицы признаков на обратимую матрицу качество линейной регрессии не меняется.\n",
    "8. Метрика R2 для выжеприведённых матриц расходится в рамках статистической погрешности, что говорит о том, что модель линейной регрессии работает одинаково хорошо, как с матрицой с исходными признакми, так и с этой же матрицой, помноженной на случайную обратимую матрицу. \n",
    "9. Алгоритм для защиты персональных данных можно внедрять.\n",
    "\n",
    "\n",
    "\n"
   ]
  }
 ],
 "metadata": {
  "ExecuteTimeLog": [
   {
    "duration": 577,
    "start_time": "2022-04-27T18:56:30.074Z"
   },
   {
    "duration": 149,
    "start_time": "2022-04-27T18:57:51.335Z"
   },
   {
    "duration": 114,
    "start_time": "2022-04-27T18:57:57.580Z"
   },
   {
    "duration": 23,
    "start_time": "2022-04-27T18:58:04.099Z"
   },
   {
    "duration": 11,
    "start_time": "2022-04-27T18:58:43.437Z"
   },
   {
    "duration": 10,
    "start_time": "2022-04-27T18:58:57.792Z"
   },
   {
    "duration": 10,
    "start_time": "2022-04-27T18:59:04.549Z"
   },
   {
    "duration": 21,
    "start_time": "2022-04-27T18:59:20.390Z"
   },
   {
    "duration": 44,
    "start_time": "2022-04-27T18:59:51.676Z"
   },
   {
    "duration": 9,
    "start_time": "2022-04-27T19:02:10.813Z"
   },
   {
    "duration": 11,
    "start_time": "2022-04-27T19:02:50.120Z"
   },
   {
    "duration": 22,
    "start_time": "2022-04-27T19:03:28.529Z"
   },
   {
    "duration": 25,
    "start_time": "2022-04-27T19:03:31.365Z"
   },
   {
    "duration": 3,
    "start_time": "2022-04-27T19:05:29.625Z"
   },
   {
    "duration": 22,
    "start_time": "2022-04-27T19:05:32.958Z"
   },
   {
    "duration": 25,
    "start_time": "2022-04-27T19:05:53.654Z"
   },
   {
    "duration": 7,
    "start_time": "2022-04-27T19:10:52.465Z"
   },
   {
    "duration": 16,
    "start_time": "2022-04-27T19:11:03.358Z"
   },
   {
    "duration": 13,
    "start_time": "2022-04-27T19:11:26.645Z"
   },
   {
    "duration": 5,
    "start_time": "2022-04-27T19:20:29.539Z"
   },
   {
    "duration": 21,
    "start_time": "2022-04-27T19:21:27.192Z"
   },
   {
    "duration": 32,
    "start_time": "2022-04-27T19:21:51.704Z"
   },
   {
    "duration": 8,
    "start_time": "2022-04-27T19:22:54.881Z"
   },
   {
    "duration": 8,
    "start_time": "2022-04-27T20:41:20.466Z"
   },
   {
    "duration": 5,
    "start_time": "2022-04-27T20:46:34.905Z"
   },
   {
    "duration": 4,
    "start_time": "2022-04-27T20:46:50.651Z"
   },
   {
    "duration": 13,
    "start_time": "2022-04-27T20:51:30.779Z"
   },
   {
    "duration": 6,
    "start_time": "2022-04-27T20:51:34.735Z"
   },
   {
    "duration": 13,
    "start_time": "2022-04-27T20:51:49.287Z"
   },
   {
    "duration": 495,
    "start_time": "2022-04-28T05:22:46.863Z"
   },
   {
    "duration": 21,
    "start_time": "2022-04-28T05:22:47.361Z"
   },
   {
    "duration": 26,
    "start_time": "2022-04-28T05:22:47.384Z"
   },
   {
    "duration": 16,
    "start_time": "2022-04-28T05:22:47.424Z"
   },
   {
    "duration": 39,
    "start_time": "2022-04-28T05:22:47.443Z"
   },
   {
    "duration": 8,
    "start_time": "2022-04-28T05:22:47.484Z"
   },
   {
    "duration": 35,
    "start_time": "2022-04-28T05:22:47.494Z"
   },
   {
    "duration": 24,
    "start_time": "2022-04-28T05:22:47.531Z"
   },
   {
    "duration": 6,
    "start_time": "2022-04-28T05:22:47.558Z"
   },
   {
    "duration": 14,
    "start_time": "2022-04-28T05:22:47.568Z"
   },
   {
    "duration": 41,
    "start_time": "2022-04-28T05:22:47.584Z"
   },
   {
    "duration": 17,
    "start_time": "2022-04-28T05:22:47.627Z"
   },
   {
    "duration": 14,
    "start_time": "2022-04-28T05:22:47.646Z"
   },
   {
    "duration": 10,
    "start_time": "2022-04-28T05:22:47.662Z"
   },
   {
    "duration": 7,
    "start_time": "2022-04-28T05:22:47.674Z"
   },
   {
    "duration": 9,
    "start_time": "2022-04-28T05:22:47.683Z"
   },
   {
    "duration": 32,
    "start_time": "2022-04-28T05:22:47.694Z"
   },
   {
    "duration": 10,
    "start_time": "2022-04-28T05:22:47.728Z"
   },
   {
    "duration": 1124,
    "start_time": "2022-04-28T05:23:19.121Z"
   },
   {
    "duration": 4,
    "start_time": "2022-04-28T06:01:20.283Z"
   },
   {
    "duration": 7,
    "start_time": "2022-04-28T06:01:28.497Z"
   },
   {
    "duration": 6,
    "start_time": "2022-04-28T06:01:46.616Z"
   },
   {
    "duration": 7,
    "start_time": "2022-04-28T06:01:58.275Z"
   },
   {
    "duration": 7,
    "start_time": "2022-04-28T06:02:00.348Z"
   },
   {
    "duration": 5,
    "start_time": "2022-04-28T06:03:46.142Z"
   },
   {
    "duration": 7,
    "start_time": "2022-04-28T06:04:20.045Z"
   },
   {
    "duration": 5,
    "start_time": "2022-04-28T06:04:22.895Z"
   },
   {
    "duration": 4,
    "start_time": "2022-04-28T06:05:12.484Z"
   },
   {
    "duration": 70,
    "start_time": "2022-04-28T15:44:20.074Z"
   },
   {
    "duration": 1122,
    "start_time": "2022-04-28T15:44:26.361Z"
   },
   {
    "duration": 13,
    "start_time": "2022-04-28T15:44:27.486Z"
   },
   {
    "duration": 21,
    "start_time": "2022-04-28T15:44:27.501Z"
   },
   {
    "duration": 13,
    "start_time": "2022-04-28T15:44:27.525Z"
   },
   {
    "duration": 29,
    "start_time": "2022-04-28T15:44:27.540Z"
   },
   {
    "duration": 43,
    "start_time": "2022-04-28T15:44:27.571Z"
   },
   {
    "duration": 11,
    "start_time": "2022-04-28T15:44:27.616Z"
   },
   {
    "duration": 17,
    "start_time": "2022-04-28T15:44:27.631Z"
   },
   {
    "duration": 5,
    "start_time": "2022-04-28T15:44:27.650Z"
   },
   {
    "duration": 10,
    "start_time": "2022-04-28T15:44:27.658Z"
   },
   {
    "duration": 48,
    "start_time": "2022-04-28T15:44:27.669Z"
   },
   {
    "duration": 12,
    "start_time": "2022-04-28T15:44:27.718Z"
   },
   {
    "duration": 4,
    "start_time": "2022-04-28T15:44:27.732Z"
   },
   {
    "duration": 7,
    "start_time": "2022-04-28T15:44:27.738Z"
   },
   {
    "duration": 6,
    "start_time": "2022-04-28T15:44:27.747Z"
   },
   {
    "duration": 8,
    "start_time": "2022-04-28T15:44:27.754Z"
   },
   {
    "duration": 44,
    "start_time": "2022-04-28T15:44:27.764Z"
   },
   {
    "duration": 14,
    "start_time": "2022-04-28T15:44:27.812Z"
   },
   {
    "duration": 13,
    "start_time": "2022-04-28T15:44:27.828Z"
   },
   {
    "duration": 75,
    "start_time": "2022-04-28T15:44:27.843Z"
   },
   {
    "duration": 9,
    "start_time": "2022-04-28T15:44:27.920Z"
   },
   {
    "duration": 11,
    "start_time": "2022-04-28T15:44:38.953Z"
   },
   {
    "duration": 4,
    "start_time": "2022-04-28T15:56:56.115Z"
   },
   {
    "duration": 106,
    "start_time": "2022-04-28T15:57:05.285Z"
   },
   {
    "duration": 4,
    "start_time": "2022-04-28T15:57:07.890Z"
   },
   {
    "duration": 5,
    "start_time": "2022-04-28T15:57:16.525Z"
   },
   {
    "duration": 425,
    "start_time": "2022-04-28T15:57:34.457Z"
   },
   {
    "duration": 8,
    "start_time": "2022-04-28T15:58:23.124Z"
   },
   {
    "duration": 6,
    "start_time": "2022-04-28T15:58:31.319Z"
   },
   {
    "duration": 3,
    "start_time": "2022-04-28T15:58:32.556Z"
   },
   {
    "duration": 5,
    "start_time": "2022-04-28T15:58:40.568Z"
   },
   {
    "duration": 9,
    "start_time": "2022-04-28T15:59:19.417Z"
   },
   {
    "duration": 4,
    "start_time": "2022-04-28T15:59:32.115Z"
   },
   {
    "duration": 3,
    "start_time": "2022-04-28T16:03:54.133Z"
   },
   {
    "duration": 7,
    "start_time": "2022-04-28T16:03:56.662Z"
   },
   {
    "duration": 4,
    "start_time": "2022-04-28T16:04:00.509Z"
   },
   {
    "duration": 9,
    "start_time": "2022-04-28T16:04:03.747Z"
   },
   {
    "duration": 4,
    "start_time": "2022-04-28T16:04:11.327Z"
   },
   {
    "duration": 3,
    "start_time": "2022-04-28T16:04:22.043Z"
   },
   {
    "duration": 28,
    "start_time": "2022-04-28T16:37:20.542Z"
   },
   {
    "duration": 2,
    "start_time": "2022-04-28T16:37:39.753Z"
   },
   {
    "duration": 3,
    "start_time": "2022-04-28T16:48:51.971Z"
   },
   {
    "duration": 3,
    "start_time": "2022-04-28T16:49:31.337Z"
   },
   {
    "duration": 25,
    "start_time": "2022-04-28T16:49:32.088Z"
   },
   {
    "duration": 4,
    "start_time": "2022-04-28T16:49:46.841Z"
   },
   {
    "duration": 11,
    "start_time": "2022-04-28T16:49:47.474Z"
   },
   {
    "duration": 16,
    "start_time": "2022-04-28T16:50:07.668Z"
   },
   {
    "duration": 27,
    "start_time": "2022-04-28T17:07:50.004Z"
   },
   {
    "duration": 4,
    "start_time": "2022-04-28T17:08:35.513Z"
   },
   {
    "duration": 55,
    "start_time": "2022-04-28T17:08:48.251Z"
   },
   {
    "duration": 1643,
    "start_time": "2022-04-28T19:50:08.671Z"
   },
   {
    "duration": 51,
    "start_time": "2022-04-28T19:50:10.317Z"
   },
   {
    "duration": 25,
    "start_time": "2022-04-28T19:50:10.371Z"
   },
   {
    "duration": 25,
    "start_time": "2022-04-28T19:50:10.400Z"
   },
   {
    "duration": 56,
    "start_time": "2022-04-28T19:50:10.432Z"
   },
   {
    "duration": 13,
    "start_time": "2022-04-28T19:50:10.490Z"
   },
   {
    "duration": 31,
    "start_time": "2022-04-28T19:50:10.505Z"
   },
   {
    "duration": 58,
    "start_time": "2022-04-28T19:50:10.538Z"
   },
   {
    "duration": 7,
    "start_time": "2022-04-28T19:50:10.598Z"
   },
   {
    "duration": 55,
    "start_time": "2022-04-28T19:50:10.609Z"
   },
   {
    "duration": 16,
    "start_time": "2022-04-28T19:50:10.666Z"
   },
   {
    "duration": 32,
    "start_time": "2022-04-28T19:50:10.684Z"
   },
   {
    "duration": 39,
    "start_time": "2022-04-28T19:50:10.719Z"
   },
   {
    "duration": 39,
    "start_time": "2022-04-28T19:50:10.761Z"
   },
   {
    "duration": 7,
    "start_time": "2022-04-28T19:50:10.803Z"
   },
   {
    "duration": 20,
    "start_time": "2022-04-28T19:50:10.814Z"
   },
   {
    "duration": 36,
    "start_time": "2022-04-28T19:50:10.836Z"
   },
   {
    "duration": 22,
    "start_time": "2022-04-28T19:50:10.878Z"
   },
   {
    "duration": 9,
    "start_time": "2022-04-28T19:50:10.925Z"
   },
   {
    "duration": 16,
    "start_time": "2022-04-28T19:50:10.937Z"
   },
   {
    "duration": 85,
    "start_time": "2022-04-28T19:50:10.956Z"
   },
   {
    "duration": 97,
    "start_time": "2022-04-28T19:50:11.044Z"
   },
   {
    "duration": 27,
    "start_time": "2022-04-28T19:50:11.145Z"
   },
   {
    "duration": 9,
    "start_time": "2022-04-28T19:50:11.174Z"
   },
   {
    "duration": 6,
    "start_time": "2022-04-28T19:50:11.185Z"
   },
   {
    "duration": 8,
    "start_time": "2022-04-28T19:50:11.194Z"
   },
   {
    "duration": 25,
    "start_time": "2022-04-28T19:50:11.204Z"
   },
   {
    "duration": 37,
    "start_time": "2022-04-28T19:50:11.248Z"
   },
   {
    "duration": 114,
    "start_time": "2022-04-28T19:50:11.348Z"
   },
   {
    "duration": 181,
    "start_time": "2022-04-28T19:50:11.469Z"
   },
   {
    "duration": 7,
    "start_time": "2022-04-28T19:55:57.067Z"
   },
   {
    "duration": 7,
    "start_time": "2022-04-28T19:56:13.244Z"
   },
   {
    "duration": 5,
    "start_time": "2022-04-28T19:56:36.665Z"
   },
   {
    "duration": 5,
    "start_time": "2022-04-28T20:21:17.638Z"
   },
   {
    "duration": 11,
    "start_time": "2022-04-28T20:21:24.951Z"
   },
   {
    "duration": 13,
    "start_time": "2022-04-28T20:21:31.575Z"
   },
   {
    "duration": 4,
    "start_time": "2022-04-28T20:22:25.605Z"
   },
   {
    "duration": 12,
    "start_time": "2022-04-28T20:22:26.015Z"
   },
   {
    "duration": 12,
    "start_time": "2022-04-28T20:22:26.478Z"
   },
   {
    "duration": 4,
    "start_time": "2022-04-28T20:24:55.740Z"
   },
   {
    "duration": 4,
    "start_time": "2022-04-28T20:25:49.157Z"
   },
   {
    "duration": 6,
    "start_time": "2022-04-28T20:25:57.360Z"
   },
   {
    "duration": 15,
    "start_time": "2022-04-28T20:30:28.478Z"
   },
   {
    "duration": 5,
    "start_time": "2022-04-28T20:36:11.870Z"
   },
   {
    "duration": 5,
    "start_time": "2022-04-28T20:37:19.437Z"
   },
   {
    "duration": 14,
    "start_time": "2022-04-28T20:37:36.855Z"
   },
   {
    "duration": 6,
    "start_time": "2022-04-28T20:38:06.126Z"
   },
   {
    "duration": 102,
    "start_time": "2022-04-28T20:38:06.624Z"
   },
   {
    "duration": 6,
    "start_time": "2022-04-28T20:38:14.801Z"
   },
   {
    "duration": 16,
    "start_time": "2022-04-28T20:38:16.036Z"
   },
   {
    "duration": 10,
    "start_time": "2022-04-28T20:38:20.423Z"
   },
   {
    "duration": 9,
    "start_time": "2022-04-28T20:38:20.991Z"
   },
   {
    "duration": 4,
    "start_time": "2022-04-28T20:38:24.015Z"
   },
   {
    "duration": 13,
    "start_time": "2022-04-28T20:38:24.511Z"
   },
   {
    "duration": 5,
    "start_time": "2022-04-28T20:38:36.252Z"
   },
   {
    "duration": 10,
    "start_time": "2022-04-28T20:38:36.515Z"
   },
   {
    "duration": 11,
    "start_time": "2022-04-28T20:38:54.553Z"
   },
   {
    "duration": 11,
    "start_time": "2022-04-28T20:39:05.285Z"
   },
   {
    "duration": 1719,
    "start_time": "2022-04-28T20:44:02.754Z"
   },
   {
    "duration": 15,
    "start_time": "2022-04-28T20:44:04.476Z"
   },
   {
    "duration": 44,
    "start_time": "2022-04-28T20:44:04.494Z"
   },
   {
    "duration": 32,
    "start_time": "2022-04-28T20:44:04.543Z"
   },
   {
    "duration": 37,
    "start_time": "2022-04-28T20:44:04.578Z"
   },
   {
    "duration": 11,
    "start_time": "2022-04-28T20:44:04.628Z"
   },
   {
    "duration": 26,
    "start_time": "2022-04-28T20:44:04.643Z"
   },
   {
    "duration": 30,
    "start_time": "2022-04-28T20:44:04.672Z"
   },
   {
    "duration": 7,
    "start_time": "2022-04-28T20:44:04.705Z"
   },
   {
    "duration": 38,
    "start_time": "2022-04-28T20:44:04.730Z"
   },
   {
    "duration": 16,
    "start_time": "2022-04-28T20:44:04.771Z"
   },
   {
    "duration": 29,
    "start_time": "2022-04-28T20:44:04.789Z"
   },
   {
    "duration": 39,
    "start_time": "2022-04-28T20:44:04.820Z"
   },
   {
    "duration": 28,
    "start_time": "2022-04-28T20:44:04.862Z"
   },
   {
    "duration": 11,
    "start_time": "2022-04-28T20:44:04.892Z"
   },
   {
    "duration": 10,
    "start_time": "2022-04-28T20:44:04.906Z"
   },
   {
    "duration": 37,
    "start_time": "2022-04-28T20:44:04.918Z"
   },
   {
    "duration": 30,
    "start_time": "2022-04-28T20:44:04.958Z"
   },
   {
    "duration": 139,
    "start_time": "2022-04-28T20:44:04.992Z"
   },
   {
    "duration": 41,
    "start_time": "2022-04-28T20:44:05.135Z"
   },
   {
    "duration": 55,
    "start_time": "2022-04-28T20:44:05.180Z"
   },
   {
    "duration": 101,
    "start_time": "2022-04-28T20:44:05.238Z"
   },
   {
    "duration": 40,
    "start_time": "2022-04-28T20:44:05.343Z"
   },
   {
    "duration": 33,
    "start_time": "2022-04-28T20:44:05.386Z"
   },
   {
    "duration": 43,
    "start_time": "2022-04-28T20:44:05.422Z"
   },
   {
    "duration": 34,
    "start_time": "2022-04-28T20:44:05.469Z"
   },
   {
    "duration": 20,
    "start_time": "2022-04-28T20:44:05.505Z"
   },
   {
    "duration": 50,
    "start_time": "2022-04-28T20:44:05.536Z"
   },
   {
    "duration": 159,
    "start_time": "2022-04-28T20:44:05.588Z"
   },
   {
    "duration": 213,
    "start_time": "2022-04-28T20:44:05.750Z"
   },
   {
    "duration": 120,
    "start_time": "2022-04-28T20:44:06.028Z"
   },
   {
    "duration": 78,
    "start_time": "2022-04-28T20:44:06.151Z"
   },
   {
    "duration": 97,
    "start_time": "2022-04-28T20:44:06.231Z"
   },
   {
    "duration": 25,
    "start_time": "2022-04-28T20:44:06.333Z"
   },
   {
    "duration": 73,
    "start_time": "2022-04-28T20:44:06.360Z"
   },
   {
    "duration": 101,
    "start_time": "2022-04-28T20:44:06.435Z"
   },
   {
    "duration": 16,
    "start_time": "2022-04-28T20:44:06.542Z"
   },
   {
    "duration": 191,
    "start_time": "2022-04-28T20:44:06.561Z"
   },
   {
    "duration": 197,
    "start_time": "2022-04-28T20:44:06.756Z"
   },
   {
    "duration": 67,
    "start_time": "2022-04-30T08:30:08.537Z"
   },
   {
    "duration": 1520,
    "start_time": "2022-04-30T08:30:14.844Z"
   },
   {
    "duration": 19,
    "start_time": "2022-04-30T08:30:16.367Z"
   },
   {
    "duration": 24,
    "start_time": "2022-04-30T08:30:16.388Z"
   },
   {
    "duration": 16,
    "start_time": "2022-04-30T08:30:16.414Z"
   },
   {
    "duration": 46,
    "start_time": "2022-04-30T08:30:16.431Z"
   },
   {
    "duration": 7,
    "start_time": "2022-04-30T08:30:16.479Z"
   },
   {
    "duration": 9,
    "start_time": "2022-04-30T08:30:16.488Z"
   },
   {
    "duration": 54,
    "start_time": "2022-04-30T08:30:16.499Z"
   },
   {
    "duration": 6,
    "start_time": "2022-04-30T08:30:16.555Z"
   },
   {
    "duration": 14,
    "start_time": "2022-04-30T08:30:16.565Z"
   },
   {
    "duration": 12,
    "start_time": "2022-04-30T08:30:16.581Z"
   },
   {
    "duration": 13,
    "start_time": "2022-04-30T08:30:16.595Z"
   },
   {
    "duration": 43,
    "start_time": "2022-04-30T08:30:16.610Z"
   },
   {
    "duration": 7,
    "start_time": "2022-04-30T08:30:16.655Z"
   },
   {
    "duration": 9,
    "start_time": "2022-04-30T08:30:16.664Z"
   },
   {
    "duration": 6,
    "start_time": "2022-04-30T08:30:16.675Z"
   },
   {
    "duration": 7,
    "start_time": "2022-04-30T08:30:16.683Z"
   },
   {
    "duration": 11,
    "start_time": "2022-04-30T08:30:16.692Z"
   },
   {
    "duration": 47,
    "start_time": "2022-04-30T08:30:16.705Z"
   },
   {
    "duration": 97,
    "start_time": "2022-04-30T08:30:16.755Z"
   },
   {
    "duration": 6,
    "start_time": "2022-04-30T08:30:16.854Z"
   },
   {
    "duration": 90,
    "start_time": "2022-04-30T08:30:16.863Z"
   },
   {
    "duration": 97,
    "start_time": "2022-04-30T08:30:16.956Z"
   },
   {
    "duration": 11,
    "start_time": "2022-04-30T08:30:17.056Z"
   },
   {
    "duration": 10,
    "start_time": "2022-04-30T08:30:17.069Z"
   },
   {
    "duration": 6,
    "start_time": "2022-04-30T08:30:17.081Z"
   },
   {
    "duration": 19,
    "start_time": "2022-04-30T08:30:17.089Z"
   },
   {
    "duration": 6,
    "start_time": "2022-04-30T08:30:17.113Z"
   },
   {
    "duration": 135,
    "start_time": "2022-04-30T08:30:17.122Z"
   },
   {
    "duration": 102,
    "start_time": "2022-04-30T08:30:17.259Z"
   },
   {
    "duration": 189,
    "start_time": "2022-04-30T08:30:17.364Z"
   },
   {
    "duration": 100,
    "start_time": "2022-04-30T08:30:17.555Z"
   },
   {
    "duration": 9,
    "start_time": "2022-04-30T08:30:17.658Z"
   },
   {
    "duration": 4,
    "start_time": "2022-04-30T08:30:17.752Z"
   },
   {
    "duration": 94,
    "start_time": "2022-04-30T08:30:17.759Z"
   },
   {
    "duration": 14,
    "start_time": "2022-04-30T08:30:17.855Z"
   },
   {
    "duration": 90,
    "start_time": "2022-04-30T08:30:17.872Z"
   },
   {
    "duration": 12,
    "start_time": "2022-04-30T08:30:18.053Z"
   },
   {
    "duration": 197,
    "start_time": "2022-04-30T08:30:18.068Z"
   },
   {
    "duration": 187,
    "start_time": "2022-04-30T08:30:18.268Z"
   },
   {
    "duration": 1557,
    "start_time": "2022-04-30T08:55:00.097Z"
   },
   {
    "duration": 15,
    "start_time": "2022-04-30T08:55:01.657Z"
   },
   {
    "duration": 34,
    "start_time": "2022-04-30T08:55:01.674Z"
   },
   {
    "duration": 41,
    "start_time": "2022-04-30T08:55:01.712Z"
   },
   {
    "duration": 34,
    "start_time": "2022-04-30T08:55:01.755Z"
   },
   {
    "duration": 9,
    "start_time": "2022-04-30T08:55:01.792Z"
   },
   {
    "duration": 15,
    "start_time": "2022-04-30T08:55:01.803Z"
   },
   {
    "duration": 57,
    "start_time": "2022-04-30T08:55:01.821Z"
   },
   {
    "duration": 7,
    "start_time": "2022-04-30T08:55:01.880Z"
   },
   {
    "duration": 27,
    "start_time": "2022-04-30T08:55:01.891Z"
   },
   {
    "duration": 20,
    "start_time": "2022-04-30T08:55:01.921Z"
   },
   {
    "duration": 16,
    "start_time": "2022-04-30T08:55:01.952Z"
   },
   {
    "duration": 21,
    "start_time": "2022-04-30T08:55:01.970Z"
   },
   {
    "duration": 11,
    "start_time": "2022-04-30T08:55:01.993Z"
   },
   {
    "duration": 17,
    "start_time": "2022-04-30T08:55:02.007Z"
   },
   {
    "duration": 21,
    "start_time": "2022-04-30T08:55:02.026Z"
   },
   {
    "duration": 25,
    "start_time": "2022-04-30T08:55:02.049Z"
   },
   {
    "duration": 11,
    "start_time": "2022-04-30T08:55:02.076Z"
   },
   {
    "duration": 24,
    "start_time": "2022-04-30T08:55:02.089Z"
   },
   {
    "duration": 47,
    "start_time": "2022-04-30T08:55:02.116Z"
   },
   {
    "duration": 89,
    "start_time": "2022-04-30T08:55:02.165Z"
   },
   {
    "duration": 100,
    "start_time": "2022-04-30T08:55:02.256Z"
   },
   {
    "duration": 99,
    "start_time": "2022-04-30T08:55:02.359Z"
   },
   {
    "duration": 11,
    "start_time": "2022-04-30T08:55:02.460Z"
   },
   {
    "duration": 7,
    "start_time": "2022-04-30T08:55:02.473Z"
   },
   {
    "duration": 6,
    "start_time": "2022-04-30T08:55:02.482Z"
   },
   {
    "duration": 7,
    "start_time": "2022-04-30T08:55:02.490Z"
   },
   {
    "duration": 4,
    "start_time": "2022-04-30T08:55:02.503Z"
   },
   {
    "duration": 100,
    "start_time": "2022-04-30T08:55:02.552Z"
   },
   {
    "duration": 100,
    "start_time": "2022-04-30T08:55:02.655Z"
   },
   {
    "duration": 99,
    "start_time": "2022-04-30T08:55:02.759Z"
   },
   {
    "duration": 91,
    "start_time": "2022-04-30T08:55:02.861Z"
   },
   {
    "duration": 6,
    "start_time": "2022-04-30T08:55:02.956Z"
   },
   {
    "duration": 94,
    "start_time": "2022-04-30T08:55:02.965Z"
   },
   {
    "duration": 8,
    "start_time": "2022-04-30T08:55:03.061Z"
   },
   {
    "duration": 84,
    "start_time": "2022-04-30T08:55:03.071Z"
   },
   {
    "duration": 93,
    "start_time": "2022-04-30T08:55:03.158Z"
   },
   {
    "duration": 11,
    "start_time": "2022-04-30T08:55:03.253Z"
   },
   {
    "duration": 96,
    "start_time": "2022-04-30T08:55:03.266Z"
   },
   {
    "duration": 94,
    "start_time": "2022-04-30T08:55:03.365Z"
   },
   {
    "duration": 1177,
    "start_time": "2022-05-01T09:59:21.101Z"
   },
   {
    "duration": 11,
    "start_time": "2022-05-01T09:59:22.280Z"
   },
   {
    "duration": 15,
    "start_time": "2022-05-01T09:59:22.293Z"
   },
   {
    "duration": 19,
    "start_time": "2022-05-01T09:59:22.310Z"
   },
   {
    "duration": 22,
    "start_time": "2022-05-01T09:59:22.331Z"
   },
   {
    "duration": 5,
    "start_time": "2022-05-01T09:59:22.355Z"
   },
   {
    "duration": 9,
    "start_time": "2022-05-01T09:59:22.361Z"
   },
   {
    "duration": 15,
    "start_time": "2022-05-01T09:59:22.371Z"
   },
   {
    "duration": 3,
    "start_time": "2022-05-01T09:59:22.388Z"
   },
   {
    "duration": 38,
    "start_time": "2022-05-01T09:59:22.394Z"
   },
   {
    "duration": 9,
    "start_time": "2022-05-01T09:59:22.433Z"
   },
   {
    "duration": 8,
    "start_time": "2022-05-01T09:59:22.444Z"
   },
   {
    "duration": 9,
    "start_time": "2022-05-01T09:59:22.454Z"
   },
   {
    "duration": 6,
    "start_time": "2022-05-01T09:59:22.464Z"
   },
   {
    "duration": 6,
    "start_time": "2022-05-01T09:59:22.472Z"
   },
   {
    "duration": 3,
    "start_time": "2022-05-01T09:59:22.479Z"
   },
   {
    "duration": 40,
    "start_time": "2022-05-01T09:59:22.484Z"
   },
   {
    "duration": 8,
    "start_time": "2022-05-01T09:59:22.526Z"
   },
   {
    "duration": 7,
    "start_time": "2022-05-01T09:59:22.536Z"
   },
   {
    "duration": 81,
    "start_time": "2022-05-01T09:59:22.546Z"
   },
   {
    "duration": 9,
    "start_time": "2022-05-01T09:59:22.629Z"
   },
   {
    "duration": 90,
    "start_time": "2022-05-01T09:59:22.640Z"
   },
   {
    "duration": 93,
    "start_time": "2022-05-01T09:59:22.732Z"
   },
   {
    "duration": 4,
    "start_time": "2022-05-01T09:59:22.827Z"
   },
   {
    "duration": 10,
    "start_time": "2022-05-01T09:59:22.833Z"
   },
   {
    "duration": 6,
    "start_time": "2022-05-01T09:59:22.844Z"
   },
   {
    "duration": 7,
    "start_time": "2022-05-01T09:59:22.852Z"
   },
   {
    "duration": 3,
    "start_time": "2022-05-01T09:59:22.863Z"
   },
   {
    "duration": 62,
    "start_time": "2022-05-01T09:59:22.868Z"
   },
   {
    "duration": 100,
    "start_time": "2022-05-01T09:59:22.932Z"
   },
   {
    "duration": 199,
    "start_time": "2022-05-01T09:59:23.034Z"
   },
   {
    "duration": 99,
    "start_time": "2022-05-01T09:59:23.234Z"
   },
   {
    "duration": 98,
    "start_time": "2022-05-01T09:59:23.335Z"
   },
   {
    "duration": 3,
    "start_time": "2022-05-01T09:59:23.435Z"
   },
   {
    "duration": 8,
    "start_time": "2022-05-01T09:59:23.523Z"
   },
   {
    "duration": 12,
    "start_time": "2022-05-01T09:59:23.532Z"
   },
   {
    "duration": 4,
    "start_time": "2022-05-01T09:59:23.546Z"
   },
   {
    "duration": 13,
    "start_time": "2022-05-01T09:59:23.625Z"
   },
   {
    "duration": 102,
    "start_time": "2022-05-01T09:59:23.724Z"
   },
   {
    "duration": 5,
    "start_time": "2022-05-01T09:59:23.828Z"
   }
  ],
  "kernelspec": {
   "display_name": "Python 3 (ipykernel)",
   "language": "python",
   "name": "python3"
  },
  "language_info": {
   "codemirror_mode": {
    "name": "ipython",
    "version": 3
   },
   "file_extension": ".py",
   "mimetype": "text/x-python",
   "name": "python",
   "nbconvert_exporter": "python",
   "pygments_lexer": "ipython3",
   "version": "3.9.7"
  },
  "toc": {
   "base_numbering": 1,
   "nav_menu": {},
   "number_sections": true,
   "sideBar": true,
   "skip_h1_title": true,
   "title_cell": "Содержание",
   "title_sidebar": "Contents",
   "toc_cell": true,
   "toc_position": {},
   "toc_section_display": true,
   "toc_window_display": true
  }
 },
 "nbformat": 4,
 "nbformat_minor": 2
}
